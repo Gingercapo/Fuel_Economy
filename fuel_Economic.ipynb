{
  "nbformat": 4,
  "nbformat_minor": 0,
  "metadata": {
    "colab": {
      "name": "fuel_Economic.ipynb",
      "provenance": [],
      "authorship_tag": "ABX9TyNBDDDnGdeIW1udfIZoa+ay",
      "include_colab_link": true
    },
    "kernelspec": {
      "name": "python3",
      "display_name": "Python 3"
    },
    "language_info": {
      "name": "python"
    }
  },
  "cells": [
    {
      "cell_type": "markdown",
      "metadata": {
        "id": "view-in-github",
        "colab_type": "text"
      },
      "source": [
        "<a href=\"https://colab.research.google.com/github/Gingercapo/Fuel_Economy/blob/main/fuel_Economic.ipynb\" target=\"_parent\"><img src=\"https://colab.research.google.com/assets/colab-badge.svg\" alt=\"Open In Colab\"/></a>"
      ]
    },
    {
      "cell_type": "code",
      "source": [
        "import pandas as pd \n",
        "import matplotlib.pyplot as plt\n",
        "import numpy as np\n",
        "import seaborn as sb\n",
        "%matplotlib inline\n"
      ],
      "metadata": {
        "id": "wwn3Gjt-1Whw"
      },
      "execution_count": null,
      "outputs": []
    },
    {
      "cell_type": "code",
      "source": [
        "# Read my data from a url \n",
        "df = pd.read_csv(\"/content/fuel-econ.csv\")\n",
        "df.head(2)"
      ],
      "metadata": {
        "colab": {
          "base_uri": "https://localhost:8080/",
          "height": 216
        },
        "id": "nm7qP_fR1uLU",
        "outputId": "2a452a8c-2ab8-4632-a3d3-ab71d8805e41"
      },
      "execution_count": 16,
      "outputs": [
        {
          "output_type": "execute_result",
          "data": {
            "text/plain": [
              "      id        make model  year           VClass              drive  \\\n",
              "0  32204      Nissan  GT-R  2013  Subcompact Cars    All-Wheel Drive   \n",
              "1  32205  Volkswagen    CC  2013     Compact Cars  Front-Wheel Drive   \n",
              "\n",
              "               trans          fuelType  cylinders  displ  pv2  pv4     city  \\\n",
              "0    Automatic (AM6)  Premium Gasoline          6    3.8   79    0  16.4596   \n",
              "1  Automatic (AM-S6)  Premium Gasoline          4    2.0   94    0  21.8706   \n",
              "\n",
              "     UCity  highway  UHighway     comb  co2  feScore  ghgScore  \n",
              "0  20.2988  22.5568   30.1798  18.7389  471        4         4  \n",
              "1  26.9770  31.0367   42.4936  25.2227  349        6         6  "
            ],
            "text/html": [
              "\n",
              "  <div id=\"df-9a4958e9-4fb6-4809-8861-d0d55613bc31\">\n",
              "    <div class=\"colab-df-container\">\n",
              "      <div>\n",
              "<style scoped>\n",
              "    .dataframe tbody tr th:only-of-type {\n",
              "        vertical-align: middle;\n",
              "    }\n",
              "\n",
              "    .dataframe tbody tr th {\n",
              "        vertical-align: top;\n",
              "    }\n",
              "\n",
              "    .dataframe thead th {\n",
              "        text-align: right;\n",
              "    }\n",
              "</style>\n",
              "<table border=\"1\" class=\"dataframe\">\n",
              "  <thead>\n",
              "    <tr style=\"text-align: right;\">\n",
              "      <th></th>\n",
              "      <th>id</th>\n",
              "      <th>make</th>\n",
              "      <th>model</th>\n",
              "      <th>year</th>\n",
              "      <th>VClass</th>\n",
              "      <th>drive</th>\n",
              "      <th>trans</th>\n",
              "      <th>fuelType</th>\n",
              "      <th>cylinders</th>\n",
              "      <th>displ</th>\n",
              "      <th>pv2</th>\n",
              "      <th>pv4</th>\n",
              "      <th>city</th>\n",
              "      <th>UCity</th>\n",
              "      <th>highway</th>\n",
              "      <th>UHighway</th>\n",
              "      <th>comb</th>\n",
              "      <th>co2</th>\n",
              "      <th>feScore</th>\n",
              "      <th>ghgScore</th>\n",
              "    </tr>\n",
              "  </thead>\n",
              "  <tbody>\n",
              "    <tr>\n",
              "      <th>0</th>\n",
              "      <td>32204</td>\n",
              "      <td>Nissan</td>\n",
              "      <td>GT-R</td>\n",
              "      <td>2013</td>\n",
              "      <td>Subcompact Cars</td>\n",
              "      <td>All-Wheel Drive</td>\n",
              "      <td>Automatic (AM6)</td>\n",
              "      <td>Premium Gasoline</td>\n",
              "      <td>6</td>\n",
              "      <td>3.8</td>\n",
              "      <td>79</td>\n",
              "      <td>0</td>\n",
              "      <td>16.4596</td>\n",
              "      <td>20.2988</td>\n",
              "      <td>22.5568</td>\n",
              "      <td>30.1798</td>\n",
              "      <td>18.7389</td>\n",
              "      <td>471</td>\n",
              "      <td>4</td>\n",
              "      <td>4</td>\n",
              "    </tr>\n",
              "    <tr>\n",
              "      <th>1</th>\n",
              "      <td>32205</td>\n",
              "      <td>Volkswagen</td>\n",
              "      <td>CC</td>\n",
              "      <td>2013</td>\n",
              "      <td>Compact Cars</td>\n",
              "      <td>Front-Wheel Drive</td>\n",
              "      <td>Automatic (AM-S6)</td>\n",
              "      <td>Premium Gasoline</td>\n",
              "      <td>4</td>\n",
              "      <td>2.0</td>\n",
              "      <td>94</td>\n",
              "      <td>0</td>\n",
              "      <td>21.8706</td>\n",
              "      <td>26.9770</td>\n",
              "      <td>31.0367</td>\n",
              "      <td>42.4936</td>\n",
              "      <td>25.2227</td>\n",
              "      <td>349</td>\n",
              "      <td>6</td>\n",
              "      <td>6</td>\n",
              "    </tr>\n",
              "  </tbody>\n",
              "</table>\n",
              "</div>\n",
              "      <button class=\"colab-df-convert\" onclick=\"convertToInteractive('df-9a4958e9-4fb6-4809-8861-d0d55613bc31')\"\n",
              "              title=\"Convert this dataframe to an interactive table.\"\n",
              "              style=\"display:none;\">\n",
              "        \n",
              "  <svg xmlns=\"http://www.w3.org/2000/svg\" height=\"24px\"viewBox=\"0 0 24 24\"\n",
              "       width=\"24px\">\n",
              "    <path d=\"M0 0h24v24H0V0z\" fill=\"none\"/>\n",
              "    <path d=\"M18.56 5.44l.94 2.06.94-2.06 2.06-.94-2.06-.94-.94-2.06-.94 2.06-2.06.94zm-11 1L8.5 8.5l.94-2.06 2.06-.94-2.06-.94L8.5 2.5l-.94 2.06-2.06.94zm10 10l.94 2.06.94-2.06 2.06-.94-2.06-.94-.94-2.06-.94 2.06-2.06.94z\"/><path d=\"M17.41 7.96l-1.37-1.37c-.4-.4-.92-.59-1.43-.59-.52 0-1.04.2-1.43.59L10.3 9.45l-7.72 7.72c-.78.78-.78 2.05 0 2.83L4 21.41c.39.39.9.59 1.41.59.51 0 1.02-.2 1.41-.59l7.78-7.78 2.81-2.81c.8-.78.8-2.07 0-2.86zM5.41 20L4 18.59l7.72-7.72 1.47 1.35L5.41 20z\"/>\n",
              "  </svg>\n",
              "      </button>\n",
              "      \n",
              "  <style>\n",
              "    .colab-df-container {\n",
              "      display:flex;\n",
              "      flex-wrap:wrap;\n",
              "      gap: 12px;\n",
              "    }\n",
              "\n",
              "    .colab-df-convert {\n",
              "      background-color: #E8F0FE;\n",
              "      border: none;\n",
              "      border-radius: 50%;\n",
              "      cursor: pointer;\n",
              "      display: none;\n",
              "      fill: #1967D2;\n",
              "      height: 32px;\n",
              "      padding: 0 0 0 0;\n",
              "      width: 32px;\n",
              "    }\n",
              "\n",
              "    .colab-df-convert:hover {\n",
              "      background-color: #E2EBFA;\n",
              "      box-shadow: 0px 1px 2px rgba(60, 64, 67, 0.3), 0px 1px 3px 1px rgba(60, 64, 67, 0.15);\n",
              "      fill: #174EA6;\n",
              "    }\n",
              "\n",
              "    [theme=dark] .colab-df-convert {\n",
              "      background-color: #3B4455;\n",
              "      fill: #D2E3FC;\n",
              "    }\n",
              "\n",
              "    [theme=dark] .colab-df-convert:hover {\n",
              "      background-color: #434B5C;\n",
              "      box-shadow: 0px 1px 3px 1px rgba(0, 0, 0, 0.15);\n",
              "      filter: drop-shadow(0px 1px 2px rgba(0, 0, 0, 0.3));\n",
              "      fill: #FFFFFF;\n",
              "    }\n",
              "  </style>\n",
              "\n",
              "      <script>\n",
              "        const buttonEl =\n",
              "          document.querySelector('#df-9a4958e9-4fb6-4809-8861-d0d55613bc31 button.colab-df-convert');\n",
              "        buttonEl.style.display =\n",
              "          google.colab.kernel.accessAllowed ? 'block' : 'none';\n",
              "\n",
              "        async function convertToInteractive(key) {\n",
              "          const element = document.querySelector('#df-9a4958e9-4fb6-4809-8861-d0d55613bc31');\n",
              "          const dataTable =\n",
              "            await google.colab.kernel.invokeFunction('convertToInteractive',\n",
              "                                                     [key], {});\n",
              "          if (!dataTable) return;\n",
              "\n",
              "          const docLinkHtml = 'Like what you see? Visit the ' +\n",
              "            '<a target=\"_blank\" href=https://colab.research.google.com/notebooks/data_table.ipynb>data table notebook</a>'\n",
              "            + ' to learn more about interactive tables.';\n",
              "          element.innerHTML = '';\n",
              "          dataTable['output_type'] = 'display_data';\n",
              "          await google.colab.output.renderOutput(dataTable, element);\n",
              "          const docLink = document.createElement('div');\n",
              "          docLink.innerHTML = docLinkHtml;\n",
              "          element.appendChild(docLink);\n",
              "        }\n",
              "      </script>\n",
              "    </div>\n",
              "  </div>\n",
              "  "
            ]
          },
          "metadata": {},
          "execution_count": 16
        }
      ]
    },
    {
      "cell_type": "markdown",
      "source": [
        "# Scatter Plot\n",
        "- A scatterplot is used to show the relationship between two quantitative variables. The two variables are indicated on X and Y-axis, respectively. Through the scatterplots, we can see clearly how these two variables correlate with each other."
      ],
      "metadata": {
        "id": "YOldX-lb53Fk"
      }
    },
    {
      "cell_type": "code",
      "source": [
        "# Scatter plot for the data we want to plot\n",
        "plt.scatter(data = df, x = \"displ\", y = \"comb\");\n",
        "plt.xlabel(\"Displacement\")\n",
        "plt.ylabel(\"Combined Fuel efficieny (mpg)\")"
      ],
      "metadata": {
        "id": "ccT3pyLN6JDF",
        "colab": {
          "base_uri": "https://localhost:8080/",
          "height": 300
        },
        "outputId": "3bf4e082-3c6e-425e-c7b9-e3b1501d26e2"
      },
      "execution_count": 19,
      "outputs": [
        {
          "output_type": "execute_result",
          "data": {
            "text/plain": [
              "Text(0, 0.5, 'Combined Fuel efficieny (mpg)')"
            ]
          },
          "metadata": {},
          "execution_count": 19
        },
        {
          "output_type": "display_data",
          "data": {
            "text/plain": [
              "<Figure size 432x288 with 1 Axes>"
            ],
            "image/png": "[encoded data removed]"
          },
          "metadata": {
            "needs_background": "light"
          }
        }
      ]
    },
    {
      "cell_type": "markdown",
      "source": [
        "- In the example above, **the relationship between the two variables is negative** because as higher values of the x-axis variable are increasing, the values of the variable plotted on the y-axis are decreasing."
      ],
      "metadata": {
        "id": "-8Z0QhSg787K"
      }
    },
    {
      "cell_type": "code",
      "source": [
        ""
      ],
      "metadata": {
        "id": "9cL1Ip4F7lZh"
      },
      "execution_count": null,
      "outputs": []
    }
  ]
}